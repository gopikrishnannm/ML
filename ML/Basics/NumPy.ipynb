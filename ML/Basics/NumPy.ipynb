{
 "cells": [
  {
   "cell_type": "markdown",
   "id": "641958c9",
   "metadata": {},
   "source": [
    "# NumPy [Numerical Python]"
   ]
  },
  {
   "cell_type": "markdown",
   "id": "0d530cce",
   "metadata": {},
   "source": [
    "pip install numpy - pip used to install python packages"
   ]
  },
  {
   "cell_type": "code",
   "execution_count": 6,
   "id": "c39431ee",
   "metadata": {},
   "outputs": [],
   "source": [
    "import numpy as np"
   ]
  },
  {
   "cell_type": "markdown",
   "id": "0a223d9d",
   "metadata": {},
   "source": [
    "numpy library in Python that allow you to work with  large, multi-dimensional arrays and matrices with the help of mathematical functions."
   ]
  },
  {
   "cell_type": "code",
   "execution_count": 12,
   "id": "76c3f9a0",
   "metadata": {},
   "outputs": [],
   "source": [
    "oneD = np.array([1, 2, 3])"
   ]
  },
  {
   "cell_type": "code",
   "execution_count": 14,
   "id": "9a4d7b94",
   "metadata": {},
   "outputs": [
    {
     "name": "stdout",
     "output_type": "stream",
     "text": [
      "[1 2 3]\n"
     ]
    }
   ],
   "source": [
    "print(oneD)"
   ]
  },
  {
   "cell_type": "code",
   "execution_count": 15,
   "id": "51717d27",
   "metadata": {},
   "outputs": [
    {
     "data": {
      "text/plain": [
       "array([11, 12, 13])"
      ]
     },
     "execution_count": 15,
     "metadata": {},
     "output_type": "execute_result"
    }
   ],
   "source": [
    "oneD+10"
   ]
  },
  {
   "cell_type": "code",
   "execution_count": 16,
   "id": "297d2803",
   "metadata": {},
   "outputs": [
    {
     "name": "stdout",
     "output_type": "stream",
     "text": [
      "[1 2 3]\n"
     ]
    }
   ],
   "source": [
    "print(oneD)"
   ]
  },
  {
   "cell_type": "code",
   "execution_count": 19,
   "id": "1540e921",
   "metadata": {},
   "outputs": [],
   "source": [
    "twoD = np.array([[1,2],[3,4]])"
   ]
  },
  {
   "cell_type": "code",
   "execution_count": 20,
   "id": "d470e020",
   "metadata": {},
   "outputs": [
    {
     "data": {
      "text/plain": [
       "array([[11, 12],\n",
       "       [13, 14]])"
      ]
     },
     "execution_count": 20,
     "metadata": {},
     "output_type": "execute_result"
    }
   ],
   "source": [
    "twoD + 10"
   ]
  },
  {
   "cell_type": "code",
   "execution_count": 21,
   "id": "e00fd7be",
   "metadata": {},
   "outputs": [
    {
     "data": {
      "text/plain": [
       "array([[ 7, 10],\n",
       "       [15, 22]])"
      ]
     },
     "execution_count": 21,
     "metadata": {},
     "output_type": "execute_result"
    }
   ],
   "source": [
    "np.dot(twoD, np.array([[1,2],[3,4]]) )"
   ]
  },
  {
   "cell_type": "code",
   "execution_count": null,
   "id": "eaca6a55",
   "metadata": {},
   "outputs": [],
   "source": []
  }
 ],
 "metadata": {
  "kernelspec": {
   "display_name": "Python 3 (ipykernel)",
   "language": "python",
   "name": "python3"
  },
  "language_info": {
   "codemirror_mode": {
    "name": "ipython",
    "version": 3
   },
   "file_extension": ".py",
   "mimetype": "text/x-python",
   "name": "python",
   "nbconvert_exporter": "python",
   "pygments_lexer": "ipython3",
   "version": "3.12.1"
  }
 },
 "nbformat": 4,
 "nbformat_minor": 5
}
